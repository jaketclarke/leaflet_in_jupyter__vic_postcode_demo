{
 "cells": [
  {
   "cell_type": "markdown",
   "metadata": {},
   "source": [
    "# Make a Leaflet map with Jupyter, Pandas, and geoJson"
   ]
  },
  {
   "cell_type": "markdown",
   "metadata": {},
   "source": [
    "Jake Clarke<br />\n",
    "jake@theredfox.group<br />\n",
    "7 July 2017"
   ]
  },
  {
   "cell_type": "markdown",
   "metadata": {},
   "source": [
    "## Import data, group by postcode, get counts\n",
    "\n",
    "* Assumes an input file with one row per occurance of something by postcode\n",
    "* This will group by postcode and give you a count of occurances\n",
    "* If you already have summary data by postcode, skip this step, and just make a 'demo_by_postcode_output.csv' file in the same directory as this notebook"
   ]
  },
  {
   "cell_type": "code",
   "execution_count": 34,
   "metadata": {},
   "outputs": [
    {
     "name": "stdout",
     "output_type": "stream",
     "text": [
      "   Postcode  Count\n",
      "0      3000     36\n",
      "1      3002     22\n",
      "2      3003      2\n",
      "3      3004     31\n",
      "4      3006     96\n",
      "          Count\n",
      "Postcode       \n",
      "3000          1\n",
      "3002          1\n",
      "3003          1\n",
      "3004          1\n",
      "3006          1\n"
     ]
    }
   ],
   "source": [
    "import pandas\n",
    "\n",
    "df = pandas.read_csv('demo_by_postcode.csv',sep=',')\n",
    "print(df.head(5)) # - did this read in properly?\n",
    "\n",
    "# group by postcode creates a special group object\n",
    "# the size() method tells you how big each group is, equiv. to count(*) in sql\n",
    "countsByPostcode = df.groupby('Postcode')\n",
    "countsByPostcodeDf = pandas.DataFrame(countsByPostcode.size(), columns=['Count'])\n",
    "\n",
    "# what's this df look like?\n",
    "print(countsByPostcodeDf.head(5))\n",
    "\n",
    "# write out to csv\n",
    "countsByPostcodeDf.to_csv('demo_by_postcode_output.csv',sep=',')"
   ]
  },
  {
   "cell_type": "markdown",
   "metadata": {},
   "source": [
    "## Process data and make map"
   ]
  },
  {
   "cell_type": "code",
   "execution_count": 2,
   "metadata": {
    "collapsed": true
   },
   "outputs": [],
   "source": [
    "# Required Libraries\n",
    "from ipyleaflet import (\n",
    "    Map,\n",
    "    Marker,\n",
    "    TileLayer, ImageOverlay,\n",
    "    Polyline, Polygon, Rectangle, Circle, CircleMarker,\n",
    "    GeoJSON,\n",
    "    DrawControl\n",
    ")\n",
    "\n",
    "import pandas\n",
    "\n",
    "import json\n",
    "\n",
    "import matplotlib as mpl\n",
    "import matplotlib.cm\n",
    "import matplotlib.colors\n",
    "import numpy as np"
   ]
  },
  {
   "cell_type": "markdown",
   "metadata": {},
   "source": [
    "### Import that postcode data we made earlier"
   ]
  },
  {
   "cell_type": "code",
   "execution_count": 3,
   "metadata": {},
   "outputs": [
    {
     "name": "stdout",
     "output_type": "stream",
     "text": [
      "   Postcode  Count\n",
      "0      3000      1\n",
      "1      3002      1\n",
      "2      3003      1\n",
      "3      3004      1\n",
      "4      3006      1\n"
     ]
    }
   ],
   "source": [
    "postcodeData = pandas.read_csv('demo_by_postcode_output.csv',sep=',')\n",
    "print(postcodeData.head(5)) # - did this read in properly?"
   ]
  },
  {
   "cell_type": "markdown",
   "metadata": {},
   "source": [
    "## A basic map\n",
    "    Is this thing on?"
   ]
  },
  {
   "cell_type": "code",
   "execution_count": 37,
   "metadata": {},
   "outputs": [
    {
     "data": {
      "application/vnd.jupyter.widget-view+json": {
       "model_id": "700e1f3adfd34ce9aabfd14ae8caf2f1"
      }
     },
     "metadata": {},
     "output_type": "display_data"
    }
   ],
   "source": [
    "# what long, lat pair should the map be on?\n",
    "center = [-37, 145]\n",
    "\n",
    "# what zoom level (rough equiv. to google) should the map be at?\n",
    "zoom = 7\n",
    "\n",
    "# make map\n",
    "demo_map = Map(\n",
    "    center=center,\n",
    "    zoom=zoom\n",
    ")\n",
    "\n",
    "# print map\n",
    "demo_map"
   ]
  },
  {
   "cell_type": "markdown",
   "metadata": {},
   "source": [
    "## Make map we'll actually use, later, for stuff"
   ]
  },
  {
   "cell_type": "code",
   "execution_count": 38,
   "metadata": {},
   "outputs": [
    {
     "data": {
      "application/vnd.jupyter.widget-view+json": {
       "model_id": "040ff88a09ec416cb744d440dfef140f"
      }
     },
     "metadata": {},
     "output_type": "display_data"
    }
   ],
   "source": [
    "# what long, lat pair should the map be on?\n",
    "center = [-37, 145]\n",
    "\n",
    "# what zoom level (rough equiv. to google) should the map be at?\n",
    "zoom = 7\n",
    "\n",
    "# make map\n",
    "m = Map(\n",
    "    center=center,\n",
    "    zoom=zoom\n",
    ")\n",
    "\n",
    "# print map\n",
    "m"
   ]
  },
  {
   "cell_type": "markdown",
   "metadata": {},
   "source": [
    "## Import postcode geojson file\n",
    "\n",
    "* You could sub this out for any other geojson file easily enough\n",
    "    \n",
    "* This was made by taking the ABS shapefiles, loading them into QGIS, and exporting as geojson in WGS 84\n",
    "    \n",
    "* You could also use ogr2ogr"
   ]
  },
  {
   "cell_type": "code",
   "execution_count": 39,
   "metadata": {
    "collapsed": true
   },
   "outputs": [],
   "source": [
    "with open('poa_2011_vic_0.0001.geojson') as f:\n",
    "    postcodeGeoData = json.load(f)"
   ]
  },
  {
   "cell_type": "markdown",
   "metadata": {},
   "source": [
    "## Make some functions"
   ]
  },
  {
   "cell_type": "markdown",
   "metadata": {},
   "source": [
    "<p>for a given postcode, <code>getPostcodeCount()</code> will return the value of the column 'count' from the dataframe we made earlier</p>\n",
    "<p>if it can't find a value, it assumes 0</p>"
   ]
  },
  {
   "cell_type": "code",
   "execution_count": 40,
   "metadata": {
    "collapsed": true
   },
   "outputs": [],
   "source": [
    "# find the postcode count data in the pandas dataframe\n",
    "# if it isn't there, return 0\n",
    "\n",
    "def getPostcodeCount(postcode):\n",
    "    try:\n",
    "        postcode = int(postcode)\n",
    "        count = postcodeData[(postcodeData.Postcode == postcode)]\n",
    "        count = int(count['Count'])\n",
    "        return count\n",
    "    except:\n",
    "        return 0"
   ]
  },
  {
   "cell_type": "markdown",
   "metadata": {},
   "source": [
    "<p><code>normalisePostcodeData()</code>will normalise the count number for a postcode, so that the highest number is 1, and the lowest is 0</p>\n",
    "<p>so if a set of data ranges from 0 to 100, and you run <code>print(normalisePostcodeData(50))</code>, you will get back 0.5</p>"
   ]
  },
  {
   "cell_type": "code",
   "execution_count": 41,
   "metadata": {
    "collapsed": true
   },
   "outputs": [],
   "source": [
    "def normalisePostcodeData(count):\n",
    "    try:\n",
    "        min = postcodeData['Count'].min()\n",
    "        max = postcodeData['Count'].max()\n",
    "\n",
    "        norm = mpl.colors.Normalize(vmin=min,vmax=max)\n",
    "        \n",
    "        out = norm(count)\n",
    "        return(out)\n",
    "    except:\n",
    "        print('The normalising function is Broken, go fix that')"
   ]
  },
  {
   "cell_type": "markdown",
   "metadata": {},
   "source": [
    "<p><code>getColour()</code>will get the colour to tie to a polygon on the map for a given postcode's count data</p>\n",
    "<p>It will use the previous two functions to:\n",
    "    <ul>\n",
    "        <li>work out what the count for this postcode is</li>\n",
    "        <li>work out what the normalised value between 0 and 1 is</li>\n",
    "    </ul>\n",
    "</p>\n",
    "<p>It will then make a colour map using that feature from <i>matplotlib</i>, convert that to the #ababab hexadecimal colour representation, and return that</p>\n",
    "<p>Because we might be missing data, it assumes a default value of grey"
   ]
  },
  {
   "cell_type": "code",
   "execution_count": 42,
   "metadata": {
    "collapsed": true
   },
   "outputs": [],
   "source": [
    "def getColour(postcode):\n",
    "    try:\n",
    "        # make postcode int, get count\n",
    "        postcode = int(postcode)\n",
    "        count = getPostcodeCount(postcode)\n",
    "        \n",
    "        # get normalised 0-1 count for this datapoint\n",
    "        normalCount = normalisePostcodeData(count)\n",
    "        \n",
    "        # make colourmap\n",
    "        colourmap = mpl.cm.Reds\n",
    "        \n",
    "        # get hex value for that normalised count from that colour map\n",
    "        rgb = colourmap(normalCount)\n",
    "        hexa = mpl.colors.rgb2hex(rgb)\n",
    "        return(hexa)\n",
    "\n",
    "    except:\n",
    "        return '#eeeeee'\n"
   ]
  },
  {
   "cell_type": "markdown",
   "metadata": {},
   "source": [
    "This block of code will loop through each postcode feature, and add to the <i>style</i>key of the list a dictionary to define the colour, fill colour, weight, and fill opacity of each postcodes polygon"
   ]
  },
  {
   "cell_type": "code",
   "execution_count": 43,
   "metadata": {
    "collapsed": true
   },
   "outputs": [],
   "source": [
    "for feature in postcodeGeoData['features']:\n",
    "    # pull out the current post code value, query getColour to work out what colour we should make these things\n",
    "    # you could add other functions here to do other stuff, e.g vary opacity or line weight on value\n",
    "    postcode = feature['properties']['POA_CODE_2']\n",
    "    colour = getColour(postcode)\n",
    "    \n",
    "    feature['properties']['style'] = {'color':colour, 'weight': 1, 'fillColor':colour, 'fillOpacity':0.5}"
   ]
  },
  {
   "cell_type": "markdown",
   "metadata": {},
   "source": [
    "This makes a layer from the dataset we just built, and adds it to the map"
   ]
  },
  {
   "cell_type": "code",
   "execution_count": 44,
   "metadata": {
    "collapsed": true
   },
   "outputs": [],
   "source": [
    "g = GeoJSON(data=postcodeGeoData)\n",
    "m.add_layer(g)"
   ]
  },
  {
   "cell_type": "markdown",
   "metadata": {},
   "source": [
    "This loads the map :)"
   ]
  },
  {
   "cell_type": "code",
   "execution_count": 45,
   "metadata": {},
   "outputs": [
    {
     "data": {
      "application/vnd.jupyter.widget-view+json": {
       "model_id": "040ff88a09ec416cb744d440dfef140f"
      }
     },
     "metadata": {},
     "output_type": "display_data"
    }
   ],
   "source": [
    "m"
   ]
  }
 ],
 "metadata": {
  "kernelspec": {
   "display_name": "Python 3",
   "language": "python",
   "name": "python3"
  },
  "language_info": {
   "codemirror_mode": {
    "name": "ipython",
    "version": 3
   },
   "file_extension": ".py",
   "mimetype": "text/x-python",
   "name": "python",
   "nbconvert_exporter": "python",
   "pygments_lexer": "ipython3",
   "version": "3.6.1"
  }
 },
 "nbformat": 4,
 "nbformat_minor": 2
}
